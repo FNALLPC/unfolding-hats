{
 "cells": [
  {
   "cell_type": "code",
   "execution_count": 1,
   "metadata": {},
   "outputs": [
    {
     "name": "stdout",
     "output_type": "stream",
     "text": [
      "   ------------------------------------------------------------\n",
      "  | Welcome to ROOT 6.10/02                http://root.cern.ch |\n",
      "  |                               (c) 1995-2017, The ROOT Team |\n",
      "  | Built for macosx64                                         |\n",
      "  | From tag v6-10-02, 6 July 2017                             |\n",
      "  | Try '.help', '.demo', '.license', '.credits', '.quit'/'.q' |\n",
      "   ------------------------------------------------------------\n",
      "\n",
      "\n",
      "Processing testUnfold1.C...\n",
      "tau=5.56618e-05\n",
      "chi**2=173.079+9.63005 / 147\n",
      "chi**2(sys)=147.813\n",
      " FCN=99.8432 FROM MINOS     STATUS=SUCCESSFUL     20 CALLS         190 TOTAL\n",
      "                     EDM=4.83442e-07    STRATEGY= 1      ERROR MATRIX ACCURATE \n",
      "  EXT PARAMETER                                   STEP         FIRST   \n",
      "  NO.   NAME      VALUE            ERROR          SIZE      DERIVATIVE \n",
      "   1  p0           2.89860e+02   3.42457e+00  -1.98917e-03  -1.05299e-04\n",
      "   2  p1           3.79532e+00   1.74788e-03   1.06465e-06  -3.36308e-03\n",
      "   3  p2           1.50090e-01   1.46316e-03   1.46316e-03  -3.31677e-02\n",
      "(int) 0\n"
     ]
    },
    {
     "name": "stderr",
     "output_type": "stream",
     "text": [
      "Info in <TUnfold::SetConstraint>: fConstraint=1\n",
      "Info in <TUnfold::TUnfold>: 250 input bins and 102 output bins (includes 2 underflow/overflow bins)\n",
      "Info in <TUnfoldDensity::RegularizeOneDistribution>: regularizing yaxis regMode=3 densityMode=3 axisSteering=*[UOB]\n",
      "Info in <TUnfoldDensity::ScanLcurve>: logtau=-Infinity X=2.220276 Y=10.502941\n",
      "Info in <TUnfoldDensity::ScanLcurve>: logtau=-4.098193 X=2.245862 Y=9.383430\n",
      "Info in <TUnfoldDensity::ScanLcurve>: logtau=-4.598193 X=2.227984 Y=9.781259\n",
      "Info in <TUnfoldDensity::ScanLcurve>: logtau=-5.098193 X=2.221124 Y=10.268554\n",
      "Info in <TUnfoldDensity::ScanLcurve>: logtau=-4.848193 X=2.223434 Y=10.042047\n",
      "Info in <TUnfoldDensity::ScanLcurve>: logtau=-4.348193 X=2.234753 Y=9.563877\n",
      "Info in <TUnfoldDensity::ScanLcurve>: logtau=-4.723193 X=2.225453 Y=9.909086\n",
      "Info in <TUnfoldDensity::ScanLcurve>: logtau=-4.973193 X=2.222003 Y=10.165542\n",
      "Info in <TUnfoldDensity::ScanLcurve>: logtau=-4.473193 X=2.231016 Y=9.666566\n",
      "Info in <TUnfoldDensity::ScanLcurve>: logtau=-4.223193 X=2.239573 Y=9.469666\n",
      "Info in <TUnfoldDensity::ScanLcurve>: logtau=-4.785693 X=2.224373 Y=9.975801\n",
      "Info in <TUnfoldDensity::ScanLcurve>: logtau=-4.660693 X=2.226659 Y=9.843780\n",
      "Info in <TUnfoldDensity::ScanLcurve>: logtau=-4.910693 X=2.222644 Y=10.105851\n",
      "Info in <TUnfoldDensity::ScanLcurve>: logtau=-4.535693 X=2.229430 Y=9.722187\n",
      "Info in <TUnfoldDensity::ScanLcurve>: logtau=-5.035693 X=2.221502 Y=10.219975\n",
      "Info in <TUnfoldDensity::ScanLcurve>: logtau=-4.410693 X=2.232776 Y=9.613978\n",
      "Info in <TUnfoldDensity::ScanLcurve>: logtau=-4.285693 X=2.237002 Y=9.515832\n",
      "Info in <TUnfoldDensity::ScanLcurve>: logtau=-4.160693 X=2.242512 Y=9.425458\n",
      "Info in <TUnfoldDensity::ScanLcurve>: logtau=-4.754443 X=2.224896 Y=9.942377\n",
      "Info in <TUnfoldDensity::ScanLcurve>: logtau=-4.816943 X=2.223885 Y=10.009109\n",
      "Info in <TUnfoldDensity::ScanLcurve>: logtau=-4.691943 X=2.226041 Y=9.876156\n",
      "Info in <TUnfoldDensity::ScanLcurve>: logtau=-4.879443 X=2.223020 Y=10.074370\n",
      "Info in <TUnfoldDensity::ScanLcurve>: logtau=-4.629443 X=2.227307 Y=9.812112\n",
      "Info in <TUnfoldDensity::ScanLcurve>: logtau=-4.941943 X=2.222305 Y=10.136296\n",
      "Info in <TUnfoldDensity::ScanLcurve>: logtau=-4.566943 X=2.228691 Y=9.751278\n",
      "Info in <TUnfoldDensity::ScanLcurve>: logtau=-4.504443 X=2.230204 Y=9.693965\n",
      "Info in <TUnfoldDensity::ScanLcurve>: logtau=-5.004443 X=2.221736 Y=10.193464\n",
      "Info in <TUnfoldDensity::ScanLcurve>: logtau=-4.441943 X=2.231872 Y=9.639928\n",
      "Info in <TUnfoldDensity::ScanLcurve>: logtau=-4.379443 X=2.233734 Y=9.588648\n",
      "Info in <TUnfoldDensity::ScanLcurve>: logtau=-5.066943 X=2.221299 Y=10.245015\n",
      "Info in <TUnfoldDensity::ScanLcurve>: Result logtau=-4.254443 X=2.238244 Y=9.492514\n",
      "Info in <TCanvas::MakeDefCanvas>:  created default TCanvas with name c1\n",
      "Info in <TCanvas::Print>: png file testUnfold1.png has been created\n"
     ]
    }
   ],
   "source": [
    "%%bash\n",
    "root -b testUnfold1.C"
   ]
  },
  {
   "cell_type": "code",
   "execution_count": 2,
   "metadata": {},
   "outputs": [
    {
     "data": {
      "text/html": [
       "\n",
       "        <iframe\n",
       "            width=\"800\"\n",
       "            height=\"500\"\n",
       "            src=\"testUnfold1.png\"\n",
       "            frameborder=\"0\"\n",
       "            allowfullscreen\n",
       "        ></iframe>\n",
       "        "
      ],
      "text/plain": [
       "<IPython.lib.display.IFrame at 0x104623150>"
      ]
     },
     "execution_count": 2,
     "metadata": {},
     "output_type": "execute_result"
    }
   ],
   "source": [
    "from IPython.display import IFrame\n",
    "IFrame(\"testUnfold1.png\",width=800,height=500)"
   ]
  },
  {
   "cell_type": "code",
   "execution_count": null,
   "metadata": {
    "collapsed": true
   },
   "outputs": [],
   "source": []
  }
 ],
 "metadata": {
  "kernelspec": {
   "display_name": "unfolding-hats",
   "language": "python",
   "name": "unfolding-hats"
  },
  "language_info": {
   "codemirror_mode": {
    "name": "ipython",
    "version": 2
   },
   "file_extension": ".py",
   "mimetype": "text/x-python",
   "name": "python",
   "nbconvert_exporter": "python",
   "pygments_lexer": "ipython2",
   "version": "2.7.14+"
  }
 },
 "nbformat": 4,
 "nbformat_minor": 2
}
