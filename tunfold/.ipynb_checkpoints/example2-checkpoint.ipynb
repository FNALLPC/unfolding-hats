{
 "cells": [
  {
   "cell_type": "code",
   "execution_count": 3,
   "metadata": {},
   "outputs": [
    {
     "name": "stdout",
     "output_type": "stream",
     "text": [
      "   ------------------------------------------------------------\n",
      "  | Welcome to ROOT 6.10/02                http://root.cern.ch |\n",
      "  |                               (c) 1995-2017, The ROOT Team |\n",
      "  | Built for macosx64                                         |\n",
      "  | From tag v6-10-02, 6 July 2017                             |\n",
      "  | Try '.help', '.demo', '.license', '.credits', '.quit'/'.q' |\n",
      "   ------------------------------------------------------------\n",
      "\n",
      "\n",
      "Processing testUnfold2.C...\n",
      "tau=0.000286365\n",
      "chi**2=160.946+4.9728 / 147\n",
      "(int) 0\n"
     ]
    },
    {
     "name": "stderr",
     "output_type": "stream",
     "text": [
      "Info in <TUnfold::SetConstraint>: fConstraint=1\n",
      "Info in <TUnfold::TUnfold>: 250 input bins and 102 output bins (includes 2 underflow/overflow bins)\n",
      "Info in <TUnfold::ScanLcurve>: logtau=-Infinity X=2.186918 Y=8.913305\n",
      "Info in <TUnfold::ScanLcurve>: logtau=-3.316953 X=2.218441 Y=7.452705\n",
      "Info in <TUnfold::ScanLcurve>: logtau=-3.816953 X=2.197007 Y=8.159573\n",
      "Info in <TUnfold::ScanLcurve>: logtau=-4.316953 X=2.187673 Y=8.747364\n",
      "Info in <TUnfold::ScanLcurve>: logtau=-3.566953 X=2.205690 Y=7.815298\n",
      "Info in <TUnfold::ScanLcurve>: logtau=-4.066953 X=2.190590 Y=8.508864\n",
      "Info in <TUnfold::ScanLcurve>: logtau=-3.441953 X=2.211366 Y=7.640910\n",
      "Info in <TUnfold::ScanLcurve>: logtau=-3.941953 X=2.193437 Y=8.340054\n",
      "Info in <TUnfold::ScanLcurve>: logtau=-3.691953 X=2.201051 Y=7.984482\n",
      "Info in <TUnfold::ScanLcurve>: logtau=-4.191953 X=2.188699 Y=8.647055\n",
      "Info in <TUnfold::ScanLcurve>: logtau=-3.379453 X=2.214719 Y=7.548752\n",
      "Info in <TUnfold::ScanLcurve>: logtau=-3.879453 X=2.195152 Y=8.249925\n",
      "Info in <TUnfold::ScanLcurve>: logtau=-3.754453 X=2.198973 Y=8.070882\n",
      "Info in <TUnfold::ScanLcurve>: logtau=-3.504453 X=2.208369 Y=7.729472\n",
      "Info in <TUnfold::ScanLcurve>: logtau=-3.629453 X=2.203272 Y=7.899759\n",
      "Info in <TUnfold::ScanLcurve>: logtau=-4.004453 X=2.191902 Y=8.427286\n",
      "Info in <TUnfold::ScanLcurve>: logtau=-4.129453 X=2.189523 Y=8.582569\n",
      "Info in <TUnfold::ScanLcurve>: logtau=-4.254453 X=2.188095 Y=8.701883\n",
      "Info in <TUnfold::ScanLcurve>: logtau=-3.348203 X=2.216535 Y=7.501212\n",
      "Info in <TUnfold::ScanLcurve>: logtau=-3.410703 X=2.212997 Y=7.595312\n",
      "Info in <TUnfold::ScanLcurve>: logtau=-3.848203 X=2.196065 Y=8.204633\n",
      "Info in <TUnfold::ScanLcurve>: logtau=-3.910703 X=2.194275 Y=8.295174\n",
      "Info in <TUnfold::ScanLcurve>: logtau=-3.785703 X=2.197977 Y=8.114949\n",
      "Info in <TUnfold::ScanLcurve>: logtau=-3.473203 X=2.209825 Y=7.685600\n",
      "Info in <TUnfold::ScanLcurve>: logtau=-3.973203 X=2.192644 Y=8.384211\n",
      "Info in <TUnfold::ScanLcurve>: logtau=-3.723203 X=2.199997 Y=8.027409\n",
      "Info in <TUnfold::ScanLcurve>: logtau=-3.535703 X=2.206993 Y=7.772651\n",
      "Info in <TUnfold::ScanLcurve>: logtau=-3.660703 X=2.202141 Y=7.941987\n",
      "Info in <TUnfold::ScanLcurve>: logtau=-3.598203 X=2.204453 Y=7.857599\n",
      "Info in <TUnfold::ScanLcurve>: logtau=-4.035703 X=2.191216 Y=8.468939\n",
      "Info in <TUnfold::ScanLcurve>: Result logtau=-3.543080 X=2.206680 Y=7.782760\n",
      "Info in <TCanvas::Print>: png file testUnfold2.png has been created\n"
     ]
    }
   ],
   "source": [
    "%%bash\n",
    "root -b testUnfold2.C"
   ]
  },
  {
   "cell_type": "code",
   "execution_count": 4,
   "metadata": {},
   "outputs": [
    {
     "data": {
      "text/html": [
       "\n",
       "        <iframe\n",
       "            width=\"800\"\n",
       "            height=\"500\"\n",
       "            src=\"testUnfold2.png\"\n",
       "            frameborder=\"0\"\n",
       "            allowfullscreen\n",
       "        ></iframe>\n",
       "        "
      ],
      "text/plain": [
       "<IPython.lib.display.IFrame at 0x1045a8ad0>"
      ]
     },
     "execution_count": 4,
     "metadata": {},
     "output_type": "execute_result"
    }
   ],
   "source": [
    "from IPython.display import IFrame\n",
    "IFrame(\"testUnfold2.png\", width=800, height=500)"
   ]
  },
  {
   "cell_type": "code",
   "execution_count": null,
   "metadata": {
    "collapsed": true
   },
   "outputs": [],
   "source": []
  }
 ],
 "metadata": {
  "kernelspec": {
   "display_name": "Python 2",
   "language": "python",
   "name": "python2"
  },
  "language_info": {
   "codemirror_mode": {
    "name": "ipython",
    "version": 2
   },
   "file_extension": ".py",
   "mimetype": "text/x-python",
   "name": "python",
   "nbconvert_exporter": "python",
   "pygments_lexer": "ipython2",
   "version": "2.7.11"
  }
 },
 "nbformat": 4,
 "nbformat_minor": 2
}
