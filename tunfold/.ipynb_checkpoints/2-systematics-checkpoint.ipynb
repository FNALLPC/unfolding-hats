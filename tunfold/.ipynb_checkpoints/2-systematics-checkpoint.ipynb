{
 "cells": [
  {
   "cell_type": "markdown",
   "metadata": {},
   "source": [
    "# Basic usage with Backgrounds and Systematics"
   ]
  },
  {
   "cell_type": "markdown",
   "metadata": {},
   "source": [
    "Create an instance of PyFBU"
   ]
  },
  {
   "cell_type": "code",
   "execution_count": 1,
   "metadata": {},
   "outputs": [
    {
     "name": "stdout",
     "output_type": "stream",
     "text": [
      "Welcome to JupyROOT 6.10/02\n"
     ]
    }
   ],
   "source": [
    "import ROOT\n",
    "import utils\n",
    "\n",
    "# Set the ROOT style\n",
    "ROOT.gROOT.Macro(\"style.C\")\n",
    "utils.setTDRStyle()"
   ]
  },
  {
   "cell_type": "markdown",
   "metadata": {},
   "source": [
    "Supply the input distribution to be unfolded as a 1-dimensional list for N bins, with each entry corresponding to the bin content.\n",
    "Supply the response matrix where each row corresponds to a truth level bin.\n",
    "The normalization of each row must be the acceptance efficiency of the corresponding bin (e.g. the normalization is 1 for resolution only unfolding)."
   ]
  },
  {
   "cell_type": "code",
   "execution_count": 2,
   "metadata": {
    "collapsed": true
   },
   "outputs": [],
   "source": [
    "# load histograms from ROOT file\n",
    "f = ROOT.TFile.Open(\"../data/example.root\")\n",
    "data = f.Get(\"data\")\n",
    "response = f.Get(\"resmat\")\n",
    "bckg1 = f.Get(\"bckg1\")\n",
    "bckg2 = f.Get(\"bckg2\")"
   ]
  },
  {
   "cell_type": "code",
   "execution_count": 3,
   "metadata": {},
   "outputs": [
    {
     "data": {
      "image/png": "[encoded data removed]",
      "text/plain": [
       "<IPython.core.display.Image object>"
      ]
     },
     "metadata": {},
     "output_type": "display_data"
    }
   ],
   "source": [
    "%jsroot off\n",
    "c1 = ROOT.TCanvas('c1','c1',500,400)\n",
    "\n",
    "stack = ROOT.THStack(\"hs\",\"hs\")\n",
    "\n",
    "signal = data.Clone()\n",
    "signal.SetFillColor(ROOT.kBlue-9)\n",
    "bckg1.SetFillColor(ROOT.kRed-7)\n",
    "bckg2.SetFillColor(ROOT.kGreen+2)\n",
    "\n",
    "stack.Add(bckg1)\n",
    "stack.Add(bckg2)\n",
    "stack.Add(signal)\n",
    "stack.Draw(\"hist\")\n",
    "stack.SetMaximum(220) # adjust the range of the plot\n",
    "\n",
    "data.Draw(\"same\")\n",
    "\n",
    "leg = ROOT.TLegend(0.2,0.7,0.35,0.9)\n",
    "leg.AddEntry(data,\"Data\")\n",
    "leg.AddEntry(signal,\"Signal\",\"f\")\n",
    "leg.AddEntry(bckg1,\"bckg1\",\"f\")\n",
    "leg.AddEntry(bckg2,\"bckg2\",\"f\")\n",
    "leg.Draw(\"same\")\n",
    "c1.Update()\n",
    "c1.Draw()"
   ]
  },
  {
   "cell_type": "markdown",
   "metadata": {},
   "source": [
    "Define the boundaries of the hyperbox to be sampled for each bin.\n",
    "One or more backgrounds, with the corresponding normalization uncertainties (gaussian prior), can be taken into account in the unfolding procedure."
   ]
  },
  {
   "cell_type": "code",
   "execution_count": 4,
   "metadata": {},
   "outputs": [
    {
     "name": "stderr",
     "output_type": "stream",
     "text": [
      "Info in <TUnfold::SetConstraint>: fConstraint=1\n",
      "Info in <TUnfold::TUnfold>: underflow and overflow bin do not depend on the input data\n",
      "Info in <TUnfold::TUnfold>: 4 input bins and 2 output bins\n",
      "Info in <TUnfoldDensity::TUnfold>: *NOT* unfolding bin #0 (yaxis:[ufl])\n",
      "Info in <TUnfoldDensity::TUnfold>: *NOT* unfolding bin #3 (yaxis:[ofl])\n",
      "Info in <TUnfoldDensity::RegularizeOneDistribution>: regularizing yaxis regMode=3 densityMode=1 axisSteering=*[UOB]\n",
      "Info in <TUnfoldDensity::SubtractBackground>: Background subtraction prior to setting input data\n",
      "Info in <TUnfoldDensity::SubtractBackground>: Background subtraction prior to setting input data\n"
     ]
    }
   ],
   "source": [
    "#tu = ROOT.TUnfoldDensity(response,ROOT.TUnfold.kHistMapOutputVert)\n",
    "tu = ROOT.TUnfoldDensity(response,ROOT.TUnfold.kHistMapOutputVert, \n",
    "                         ROOT.TUnfold.kRegModeCurvature, \n",
    "                         ROOT.TUnfold.kEConstraintArea, \n",
    "                         ROOT.TUnfoldDensity.kDensityModeBinWidth)\n",
    "for bckg in [bckg1,bckg2]:\n",
    "    tu.SubtractBackground(bckg,bckg.GetName(),1.0,0.0)\n",
    "\n",
    "if tu.SetInput(data)>=10000: \n",
    "    print \" Something went wrong! \""
   ]
  },
  {
   "cell_type": "markdown",
   "metadata": {},
   "source": [
    "Systematic uncertainties affecting signal can be incorporated into the unfolding by writing a new response matrix.\n",
    "Each systematic uncertainty affects the yields in the reconstructed bin (migrations and scales) and the new response matrix captures this."
   ]
  },
  {
   "cell_type": "code",
   "execution_count": 5,
   "metadata": {
    "collapsed": true
   },
   "outputs": [],
   "source": [
    "nbinsx = response.GetNbinsX()\n",
    "nbinsy = response.GetNbinsY()\n",
    "# define a new response matrix with relative uncertainties\n",
    "syst1  = ROOT.TH2D(\"syst1\",\"syst1\",nbinsx,0,nbinsx,nbinsy,0,nbinsy)\n",
    "for i in range(nbinsx):\n",
    "    for j in range(nbinsy):\n",
    "        syst1.SetBinContent(i,j,0.01)  # add a 1% uncertainty in each bin\n",
    "\n",
    "\n",
    "tu.AddSysError(syst1,\"syst1\",\n",
    "                   ROOT.TUnfold.kHistMapOutputVert,\n",
    "                   ROOT.TUnfoldSys.kSysErrModeMatrix)"
   ]
  },
  {
   "cell_type": "code",
   "execution_count": 6,
   "metadata": {
    "collapsed": true
   },
   "outputs": [],
   "source": [
    "syst2  = ROOT.TH2D(\"syst2\",\"syst2\",nbinsx,0,nbinsx,nbinsy,0,nbinsy)\n",
    "for i in range(nbinsx):\n",
    "    for j in range(nbinsy):\n",
    "        syst2.SetBinContent(i,j,0.02)  # add a 2% uncertainty in each bin"
   ]
  },
  {
   "cell_type": "code",
   "execution_count": 7,
   "metadata": {
    "collapsed": true
   },
   "outputs": [],
   "source": [
    "tu.AddSysError(syst2,\"syst2\",\n",
    "                   ROOT.TUnfold.kHistMapOutputVert,\n",
    "                   ROOT.TUnfoldSys.kSysErrModeMatrix)"
   ]
  },
  {
   "cell_type": "markdown",
   "metadata": {},
   "source": [
    "Run the unfolding."
   ]
  },
  {
   "cell_type": "code",
   "execution_count": 8,
   "metadata": {},
   "outputs": [
    {
     "data": {
      "text/plain": [
       "0.4764972652613041"
      ]
     },
     "execution_count": 8,
     "metadata": {},
     "output_type": "execute_result"
    }
   ],
   "source": [
    "tu.DoUnfold(0)"
   ]
  },
  {
   "cell_type": "markdown",
   "metadata": {},
   "source": [
    "Retrieve the unfolded N-dimensional distribution in the form of a histogram.  Retrieve the total error matrix as well."
   ]
  },
  {
   "cell_type": "code",
   "execution_count": 9,
   "metadata": {
    "collapsed": true
   },
   "outputs": [],
   "source": [
    "hUnfold = tu.GetOutput(\"Unfolded\")\n",
    "#hErrMatTotal = tu.GetEmatrixTotal(\"EmatTotal\")"
   ]
  },
  {
   "cell_type": "code",
   "execution_count": 10,
   "metadata": {
    "scrolled": true
   },
   "outputs": [
    {
     "name": "stdout",
     "output_type": "stream",
     "text": [
      "[204.44228287378138, 206.55771712621865]\n",
      "[24.79664458665486, 24.214454463321058]\n"
     ]
    }
   ],
   "source": [
    "print [hUnfold.GetBinContent(i) for i in range(1,hUnfold.GetNbinsX()+1)]\n",
    "print [hUnfold.GetBinError(i) for i in range(1,hUnfold.GetNbinsX()+1)]"
   ]
  },
  {
   "cell_type": "code",
   "execution_count": 11,
   "metadata": {},
   "outputs": [],
   "source": [
    "# get total error matrix:\n",
    "#   migration matrix uncorrelated and correlated systematic errors\n",
    "#   added in quadrature to the data statistical errors\n",
    "histEmatTotal = tu.GetEmatrixTotal(\"EmatTotal\")\n",
    "hErrInput = tu.GetEmatrixInput(\"mErrInput\")\n",
    "hErrStat  = tu.GetEmatrixSysUncorr(\"mErrStat\")"
   ]
  },
  {
   "cell_type": "code",
   "execution_count": 13,
   "metadata": {},
   "outputs": [
    {
     "name": "stdout",
     "output_type": "stream",
     "text": [
      "[40032.53669985805, -31303.664408250024, -31303.664408250028, 28428.372994972382]\n",
      "\n",
      "[493.990129521845, -227.3855436347965, -227.38554363479648, 480.7809577477482]\n",
      "\n",
      "[25911.934634791167, -25911.93463479116, -25911.934634791163, 25911.934634791134]\n"
     ]
    }
   ],
   "source": [
    "print [histEmatTotal.GetBinContent(i,j) for i in range(1,histEmatTotal.GetNbinsX()+1) \n",
    "                                        for j in range(1,histEmatTotal.GetNbinsY()+1)]\n",
    "print\n",
    "print [hErrInput.GetBinContent(i,j) for i in range(1,hErrInput.GetNbinsX()+1) \n",
    "                                    for j in range(1,hErrInput.GetNbinsY()+1)]\n",
    "print \n",
    "print [hErrStat.GetBinContent(i,j) for i in range(1,hErrStat.GetNbinsX()+1) \n",
    "                                   for j in range(1,hErrInput.GetNbinsY()+1)]"
   ]
  },
  {
   "cell_type": "markdown",
   "metadata": {},
   "source": [
    "# Nuisance parameters"
   ]
  },
  {
   "cell_type": "markdown",
   "metadata": {},
   "source": [
    "The posterior probability for the nuisance parameters is stored in a dictionary of arrays. The correlation among nuisance parameters and with the estimates for the unfolded distribution is preserved in the array ordering."
   ]
  },
  {
   "cell_type": "markdown",
   "metadata": {},
   "source": [
    "## Correlation Matrix\n",
    "With the posterior information, it is also possible to plot the correlation matrix between the different systematic uncertainties."
   ]
  },
  {
   "cell_type": "markdown",
   "metadata": {},
   "source": [
    "## Prior vs Posterior\n",
    "Let's compare the prior and posterior distributions for our systematic uncertainties."
   ]
  },
  {
   "cell_type": "markdown",
   "metadata": {},
   "source": [
    "## Pulls\n",
    "Now we can summarize this information in a single plot that captures the pulls and constraints for each systematic uncertainty.\n",
    "The prior for each systematic uncertainty is a Gaussian centered on 0 with width 1."
   ]
  },
  {
   "cell_type": "code",
   "execution_count": null,
   "metadata": {
    "collapsed": true
   },
   "outputs": [],
   "source": []
  }
 ],
 "metadata": {
  "kernelspec": {
   "display_name": "Python 2",
   "language": "python",
   "name": "python2"
  },
  "language_info": {
   "codemirror_mode": {
    "name": "ipython",
    "version": 2
   },
   "file_extension": ".py",
   "mimetype": "text/x-python",
   "name": "python",
   "nbconvert_exporter": "python",
   "pygments_lexer": "ipython2",
   "version": "2.7.11"
  }
 },
 "nbformat": 4,
 "nbformat_minor": 1
}
