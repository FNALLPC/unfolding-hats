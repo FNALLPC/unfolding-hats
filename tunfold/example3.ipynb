{
 "cells": [
  {
   "cell_type": "code",
   "execution_count": 1,
   "metadata": {},
   "outputs": [
    {
     "name": "stdout",
     "output_type": "stream",
     "text": [
      "   ------------------------------------------------------------\n",
      "  | Welcome to ROOT 6.10/02                http://root.cern.ch |\n",
      "  |                               (c) 1995-2017, The ROOT Team |\n",
      "  | Built for macosx64                                         |\n",
      "  | From tag v6-10-02, 6 July 2017                             |\n",
      "  | Try '.help', '.demo', '.license', '.credits', '.quit'/'.q' |\n",
      "   ------------------------------------------------------------\n",
      "\n",
      "\n",
      "Processing testUnfold3.C...\n",
      "TUnfold version is V17.6\n",
      "chi**2=25.3912+4.28619 / 11\n",
      "bin truth   result   (stat)   (bgr)    (sys)\n",
      "===+=====+=========+========+========+=======\n",
      "  1  4002   4261.3 +/-137.0 +/-  8.9 +/-473.2 (unfolding)\n",
      "            4190.1 +/-128.7 +/-104.7 +/-266.3 (bin-by-bin)\n",
      "\n",
      "  2  1816   1775.1 +/- 82.0 +/-  7.3 +/- 25.2 (unfolding)\n",
      "            1714.1 +/- 61.0 +/- 17.0 +/- 70.8 (bin-by-bin)\n",
      "\n",
      "  3  1011   1020.9 +/- 60.1 +/-  6.7 +/- 24.8 (unfolding)\n",
      "             959.5 +/- 40.9 +/-  9.2 +/- 43.3 (bin-by-bin)\n",
      "\n",
      "  4   593    526.9 +/- 45.2 +/-  6.1 +/- 15.0 (unfolding)\n",
      "             506.2 +/- 27.9 +/-  6.6 +/- 45.2 (bin-by-bin)\n",
      "\n",
      "  5   379    371.6 +/- 38.6 +/-  6.5 +/- 19.8 (unfolding)\n",
      "             351.8 +/- 22.6 +/-  6.0 +/- 29.2 (bin-by-bin)\n",
      "\n",
      "  6   256    341.5 +/- 34.4 +/-  6.0 +/-  9.2 (unfolding)\n",
      "             282.5 +/- 19.2 +/-  5.2 +/- 46.6 (bin-by-bin)\n",
      "\n",
      "  7   193    182.0 +/- 30.1 +/-  5.7 +/-  7.5 (unfolding)\n",
      "             177.7 +/- 15.8 +/-  4.9 +/- 22.5 (bin-by-bin)\n",
      "\n",
      "  8   137    147.1 +/- 28.4 +/-  5.6 +/-  7.0 (unfolding)\n",
      "             133.6 +/- 13.9 +/-  4.5 +/- 20.5 (bin-by-bin)\n",
      "\n",
      "  9   123    109.6 +/- 26.3 +/-  5.4 +/- 10.4 (unfolding)\n",
      "              98.6 +/- 12.1 +/-  4.1 +/- 20.7 (bin-by-bin)\n",
      "\n",
      " 10    78    100.7 +/- 24.7 +/-  6.1 +/-  8.4 (unfolding)\n",
      "              89.7 +/- 13.2 +/-  5.0 +/- 17.1 (bin-by-bin)\n",
      "\n"
     ]
    },
    {
     "name": "stderr",
     "output_type": "stream",
     "text": [
      "Info in <TUnfold::SetConstraint>: fConstraint=1\n",
      "Info in <TUnfold::TUnfold>: 24 input bins and 12 output bins (includes 2 underflow/overflow bins)\n",
      "Info in <TUnfoldDensity::RegularizeOneDistribution>: regularizing xaxis regMode=3 densityMode=1 axisSteering=*[UOB]\n",
      "Info in <TUnfoldDensity::ScanLcurve>: logtau=-Infinity X=1.398300 Y=5.378547\n",
      "Info in <TUnfoldDensity::ScanLcurve>: logtau=-1.914692 X=1.501461 Y=5.045396\n",
      "Info in <TUnfoldDensity::ScanLcurve>: logtau=-2.414692 X=1.401645 Y=5.325900\n",
      "Info in <TUnfoldDensity::ScanLcurve>: logtau=-2.164692 X=1.421959 Y=5.232814\n",
      "Info in <TUnfoldDensity::ScanLcurve>: logtau=-2.039692 X=1.451597 Y=5.151192\n",
      "Info in <TUnfoldDensity::ScanLcurve>: logtau=-1.977192 X=1.473934 Y=5.100968\n",
      "Info in <TUnfoldDensity::ScanLcurve>: logtau=-2.289692 X=1.407586 Y=5.289508\n",
      "Info in <TUnfoldDensity::ScanLcurve>: logtau=-2.102192 X=1.434441 Y=5.195244\n",
      "Info in <TUnfoldDensity::ScanLcurve>: logtau=-1.945942 X=1.487070 Y=5.073781\n",
      "Info in <TUnfoldDensity::ScanLcurve>: logtau=-2.227192 X=1.413316 Y=5.264065\n",
      "Info in <TUnfoldDensity::ScanLcurve>: logtau=-2.008442 X=1.462104 Y=5.126812\n",
      "Info in <TUnfoldDensity::ScanLcurve>: logtau=-2.070942 X=1.442393 Y=5.174021\n",
      "Info in <TUnfoldDensity::ScanLcurve>: logtau=-2.133442 X=1.427663 Y=5.214839\n",
      "Info in <TUnfoldDensity::ScanLcurve>: logtau=-2.352192 X=1.403921 Y=5.309858\n",
      "Info in <TUnfoldDensity::ScanLcurve>: logtau=-2.195942 X=1.417216 Y=5.249204\n",
      "Info in <TUnfoldDensity::ScanLcurve>: logtau=-1.930317 X=1.494113 Y=5.059728\n",
      "Info in <TUnfoldDensity::ScanLcurve>: logtau=-1.961567 X=1.480342 Y=5.087534\n",
      "Info in <TUnfoldDensity::ScanLcurve>: logtau=-1.992817 X=1.467854 Y=5.114066\n",
      "Info in <TUnfoldDensity::ScanLcurve>: logtau=-2.024067 X=1.456686 Y=5.139191\n",
      "Info in <TUnfoldDensity::ScanLcurve>: logtau=-2.258442 X=1.410143 Y=5.277471\n",
      "Info in <TUnfoldDensity::ScanLcurve>: logtau=-2.055317 X=1.446834 Y=5.162805\n",
      "Info in <TUnfoldDensity::ScanLcurve>: logtau=-2.086567 X=1.438265 Y=5.184835\n",
      "Info in <TUnfoldDensity::ScanLcurve>: logtau=-2.117817 X=1.430912 Y=5.205245\n",
      "Info in <TUnfoldDensity::ScanLcurve>: logtau=-2.320942 X=1.405542 Y=5.300271\n",
      "Info in <TUnfoldDensity::ScanLcurve>: logtau=-2.149067 X=1.424684 Y=5.224027\n",
      "Info in <TUnfoldDensity::ScanLcurve>: logtau=-2.180317 X=1.419475 Y=5.241204\n",
      "Info in <TUnfoldDensity::ScanLcurve>: logtau=-2.383442 X=1.402644 Y=5.318368\n",
      "Info in <TUnfoldDensity::ScanLcurve>: logtau=-1.922504 X=1.497750 Y=5.052595\n",
      "Info in <TUnfoldDensity::ScanLcurve>: logtau=-1.938129 X=1.490553 Y=5.066790\n",
      "Info in <TUnfoldDensity::ScanLcurve>: logtau=-2.211567 X=1.415168 Y=5.256821\n",
      "Info in <TUnfoldDensity::ScanLcurve>: Result logtau=-2.336567 X=1.404684 Y=5.305205\n",
      "Info in <TCanvas::Print>: png file testUnfold3.png has been created\n"
     ]
    }
   ],
   "source": [
    "%%bash\n",
    "root -b testUnfold3.C"
   ]
  },
  {
   "cell_type": "code",
   "execution_count": 4,
   "metadata": {},
   "outputs": [
    {
     "data": {
      "text/html": [
       "\n",
       "        <iframe\n",
       "            width=\"800\"\n",
       "            height=\"500\"\n",
       "            src=\"testUnfold3.png\"\n",
       "            frameborder=\"0\"\n",
       "            allowfullscreen\n",
       "        ></iframe>\n",
       "        "
      ],
      "text/plain": [
       "<IPython.lib.display.IFrame at 0x1045a8bd0>"
      ]
     },
     "execution_count": 4,
     "metadata": {},
     "output_type": "execute_result"
    }
   ],
   "source": [
    "from IPython.display import IFrame\n",
    "IFrame(\"testUnfold3.png\", width=800, height=500)"
   ]
  },
  {
   "cell_type": "code",
   "execution_count": null,
   "metadata": {
    "collapsed": true
   },
   "outputs": [],
   "source": []
  }
 ],
 "metadata": {
  "kernelspec": {
   "display_name": "unfolding-hats",
   "language": "python",
   "name": "unfolding-hats"
  },
  "language_info": {
   "codemirror_mode": {
    "name": "ipython",
    "version": 2
   },
   "file_extension": ".py",
   "mimetype": "text/x-python",
   "name": "python",
   "nbconvert_exporter": "python",
   "pygments_lexer": "ipython2",
   "version": "2.7.14+"
  }
 },
 "nbformat": 4,
 "nbformat_minor": 2
}
