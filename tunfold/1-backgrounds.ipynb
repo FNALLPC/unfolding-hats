{
 "cells": [
  {
   "cell_type": "markdown",
   "metadata": {},
   "source": [
    "# TUnfold: Basic Usage with Backgrounds"
   ]
  },
  {
   "cell_type": "code",
   "execution_count": 1,
   "metadata": {},
   "outputs": [
    {
     "name": "stdout",
     "output_type": "stream",
     "text": [
      "Welcome to JupyROOT 6.10/09\n"
     ]
    }
   ],
   "source": [
    "import ROOT\n",
    "import utils\n",
    "\n",
    "# Set the ROOT style\n",
    "ROOT.gROOT.Macro(\"style.C\")\n",
    "utils.setTDRStyle()"
   ]
  },
  {
   "cell_type": "markdown",
   "metadata": {},
   "source": [
    "Supply the input distribution to be unfolded as a 1-dimensional list for N bins, with each entry corresponding to the bin content.\n",
    "Supply the response matrix where each row corresponds to a truth level bin.\n",
    "The normalization of each row must be the acceptance efficiency of the corresponding bin (e.g. the normalization is 1 for resolution only unfolding)."
   ]
  },
  {
   "cell_type": "code",
   "execution_count": 2,
   "metadata": {
    "collapsed": true
   },
   "outputs": [],
   "source": [
    "# load histograms from ROOT file\n",
    "f = ROOT.TFile.Open(\"../data/example.root\")\n",
    "data = f.Get(\"data\")\n",
    "response = f.Get(\"resmat\")\n",
    "bckg1 = f.Get(\"bckg1\")\n",
    "bckg2 = f.Get(\"bckg2\")"
   ]
  },
  {
   "cell_type": "code",
   "execution_count": 3,
   "metadata": {},
   "outputs": [
    {
     "data": {
      "image/png": "[encoded data removed]",
      "text/plain": [
       "<IPython.core.display.Image object>"
      ]
     },
     "metadata": {},
     "output_type": "display_data"
    }
   ],
   "source": [
    "%jsroot off\n",
    "c1 = ROOT.TCanvas('c1','c1',500,400)\n",
    "\n",
    "stack = ROOT.THStack(\"hs\",\"hs\")\n",
    "\n",
    "signal = data.Clone()\n",
    "signal.SetFillColor(ROOT.kBlue-9)\n",
    "bckg1.SetFillColor(ROOT.kRed-7)\n",
    "bckg2.SetFillColor(ROOT.kGreen+2)\n",
    "\n",
    "stack.Add(bckg1)\n",
    "stack.Add(bckg2)\n",
    "stack.Add(signal)\n",
    "stack.Draw(\"hist\")\n",
    "stack.SetMaximum(220) # adjust the range of the plot\n",
    "\n",
    "data.Draw(\"same\")\n",
    "\n",
    "leg = ROOT.TLegend(0.2,0.7,0.35,0.9)\n",
    "leg.AddEntry(data,\"Data\")\n",
    "leg.AddEntry(signal,\"Signal\",\"f\")\n",
    "leg.AddEntry(bckg1,\"bckg1\",\"f\")\n",
    "leg.AddEntry(bckg2,\"bckg2\",\"f\")\n",
    "leg.Draw(\"same\")\n",
    "c1.Update()\n",
    "c1.Draw()"
   ]
  },
  {
   "cell_type": "code",
   "execution_count": 4,
   "metadata": {},
   "outputs": [
    {
     "data": {
      "image/png": "[encoded data removed]",
      "text/plain": [
       "<IPython.core.display.Image object>"
      ]
     },
     "metadata": {},
     "output_type": "display_data"
    }
   ],
   "source": [
    "c2 = ROOT.TCanvas('c2','c2',500,400)\n",
    "response.Draw(\"COLZ\")\n",
    "c2.SetRightMargin(0.13);\n",
    "c2.Draw()"
   ]
  },
  {
   "cell_type": "markdown",
   "metadata": {},
   "source": [
    "Create TUnfold instance using the response matrix"
   ]
  },
  {
   "cell_type": "code",
   "execution_count": 5,
   "metadata": {},
   "outputs": [
    {
     "name": "stderr",
     "output_type": "stream",
     "text": [
      "Info in <TUnfold::SetConstraint>: fConstraint=1\n",
      "Info in <TUnfold::TUnfold>: underflow and overflow bin do not depend on the input data\n",
      "Info in <TUnfold::TUnfold>: 4 input bins and 2 output bins\n",
      "Info in <TUnfoldDensity::TUnfold>: *NOT* unfolding bin #0 (yaxis:[ufl])\n",
      "Info in <TUnfoldDensity::TUnfold>: *NOT* unfolding bin #3 (yaxis:[ofl])\n",
      "Info in <TUnfoldDensity::RegularizeOneDistribution>: regularizing yaxis regMode=3 densityMode=1 axisSteering=*[UOB]\n",
      "Info in <TUnfoldDensity::SubtractBackground>: Background subtraction prior to setting input data\n",
      "Info in <TUnfoldDensity::SubtractBackground>: Background subtraction prior to setting input data\n"
     ]
    }
   ],
   "source": [
    "#tu = ROOT.TUnfoldDensity(response,ROOT.TUnfold.kHistMapOutputVert)\n",
    "tu = ROOT.TUnfoldDensity(response,ROOT.TUnfold.kHistMapOutputVert, \n",
    "                         ROOT.TUnfold.kRegModeCurvature, \n",
    "                         ROOT.TUnfold.kEConstraintArea, \n",
    "                         ROOT.TUnfoldDensity.kDensityModeBinWidth)\n",
    "for bckg in [bckg1,bckg2]:\n",
    "    tu.SubtractBackground(bckg,bckg.GetName(),1.0,0.0)\n",
    "\n",
    "if tu.SetInput(data)>=10000: \n",
    "    print \" Something went wrong! \""
   ]
  },
  {
   "cell_type": "markdown",
   "metadata": {},
   "source": [
    "Run the unfolding."
   ]
  },
  {
   "cell_type": "code",
   "execution_count": 6,
   "metadata": {},
   "outputs": [
    {
     "data": {
      "text/plain": [
       "0.4764972652613041"
      ]
     },
     "execution_count": 6,
     "metadata": {},
     "output_type": "execute_result"
    }
   ],
   "source": [
    "tu.DoUnfold(0)"
   ]
  },
  {
   "cell_type": "markdown",
   "metadata": {},
   "source": [
    "Retrieve the unfolded N-dimensional distribution in the form of a histogram.  Retrieve the total error matrix as well."
   ]
  },
  {
   "cell_type": "code",
   "execution_count": 7,
   "metadata": {
    "collapsed": true
   },
   "outputs": [],
   "source": [
    "hUnfold = tu.GetOutput(\"Unfolded\")\n",
    "hErrMatTotal = tu.GetEmatrixTotal(\"EmatTotal\")"
   ]
  },
  {
   "cell_type": "code",
   "execution_count": 8,
   "metadata": {},
   "outputs": [
    {
     "name": "stdout",
     "output_type": "stream",
     "text": [
      "[204.44228287378138, 206.55771712621865]\n",
      "[0.0, 0.0]\n"
     ]
    }
   ],
   "source": [
    "print [hUnfold.GetBinContent(i) for i in range(1,hUnfold.GetNbinsX()+1)]\n",
    "print [hErrMatTotal.GetBinContent(i) for i in range(1,hErrMatTotal.GetNbinsX()+1)]"
   ]
  },
  {
   "cell_type": "code",
   "execution_count": null,
   "metadata": {
    "collapsed": true
   },
   "outputs": [],
   "source": []
  }
 ],
 "metadata": {
  "kernelspec": {
   "display_name": "unfolding-hats",
   "language": "python",
   "name": "unfolding-hats"
  },
  "language_info": {
   "codemirror_mode": {
    "name": "ipython",
    "version": 2
   },
   "file_extension": ".py",
   "mimetype": "text/x-python",
   "name": "python",
   "nbconvert_exporter": "python",
   "pygments_lexer": "ipython2",
   "version": "2.7.14+"
  }
 },
 "nbformat": 4,
 "nbformat_minor": 1
}
