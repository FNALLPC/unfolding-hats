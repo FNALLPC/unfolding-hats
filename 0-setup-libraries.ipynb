{
 "cells": [
  {
   "cell_type": "markdown",
   "metadata": {},
   "source": [
    "Setup Instructions\n",
    "==========\n",
    "\n",
    "These instructions need to be run once to load the requisite libraries for the tutorial.\n",
    "\n",
    "We first produce a new virtualenv with the libraries we require, \n",
    "then we teach Jupyter about this new environment with the ipython executable"
   ]
  },
  {
   "cell_type": "markdown",
   "metadata": {},
   "source": [
    "## TUnfold\n",
    "\n",
    "First we create the kernel for our TUnfold work"
   ]
  },
  {
   "cell_type": "code",
   "execution_count": 1,
   "metadata": {
    "scrolled": true
   },
   "outputs": [
    {
     "name": "stdout",
     "output_type": "stream",
     "text": [
      "Loaded CMSSW_10_1_0 into unfolding-hats!\n"
     ]
    },
    {
     "name": "stderr",
     "output_type": "stream",
     "text": [
      "perl: warning: Setting locale failed.\n",
      "perl: warning: Please check that your locale settings:\n",
      "\tLANGUAGE = (unset),\n",
      "\tLC_ALL = (unset),\n",
      "\tLANG = \"C.UTF-8\"\n",
      "    are supported and installed on your system.\n",
      "perl: warning: Falling back to the standard locale (\"C\").\n",
      "WARNING: In non-interactive mode release checks e.g. deprecated releases, production architectures are disabled.\n",
      "perl: warning: Setting locale failed.\n",
      "perl: warning: Please check that your locale settings:\n",
      "\tLANGUAGE = (unset),\n",
      "\tLC_ALL = (unset),\n",
      "\tLANG = \"C.UTF-8\"\n",
      "    are supported and installed on your system.\n",
      "perl: warning: Falling back to the standard locale (\"C\").\n"
     ]
    }
   ],
   "source": [
    "%%bash\n",
    "#!/bin/bash\n",
    "\n",
    "CMSSW_VER=\"CMSSW_10_1_0\"\n",
    "KERNEL_NAME=\"unfolding-hats\"\n",
    "\n",
    "set -e\n",
    "# Get the CMSSW libraries (specifically ROOT)\n",
    "SCRAM_ARCH=$(ls -d /cvmfs/cms.cern.ch/$(/cvmfs/cms.cern.ch/common/cmsos)*/cms/cmssw/${CMSSW_VER} | tail -n 1 | awk -F / '{ print $4 }')\n",
    "export SCRAM_ARCH\n",
    "source /cvmfs/cms.cern.ch/cmsset_default.sh\n",
    "if [ ! -d cmssw-env ]; then\n",
    "    scramv1 project --name cmssw-env CMSSW $CMSSW_VER \n",
    "fi\n",
    "cd cmssw-env\n",
    "eval `scramv1 runtime -sh`\n",
    "\n",
    "# Make a wrapper script to load CMSSW python\n",
    "cat << 'EOF' > bin/python_wrapper.sh\n",
    "#!/bin/bash\n",
    "DIR=\"$( cd \"$( dirname \"${BASH_SOURCE[0]}\" )\" && pwd )\"\n",
    "source /cvmfs/cms.cern.ch/cmsset_default.sh\n",
    "cd $DIR\n",
    "eval `scramv1 runtime -sh`\n",
    "cd -\n",
    "exec python \"$@\"\n",
    "EOF\n",
    "chmod +x bin/python_wrapper.sh\n",
    "\n",
    "# Create the kernel\n",
    "mkdir -p \"$HOME/.local/share/jupyter/kernels/$KERNEL_NAME\"\n",
    "cat << EOF > \"$HOME/.local/share/jupyter/kernels/$KERNEL_NAME/kernel.json\"\n",
    "{\n",
    " \"display_name\": \"$KERNEL_NAME\", \n",
    " \"language\": \"python\", \n",
    " \"argv\": [\n",
    "  \"$PWD/bin/python_wrapper.sh\", \n",
    "  \"-m\", \n",
    "  \"ipykernel_launcher\", \n",
    "  \"-f\", \n",
    "  \"{connection_file}\"\n",
    " ]\n",
    "}\n",
    "EOF\n",
    "\n",
    "# Report OK\n",
    "echo \"Loaded $CMSSW_VERSION into $KERNEL_NAME!\""
   ]
  },
  {
   "cell_type": "markdown",
   "metadata": {},
   "source": [
    "### Results\n",
    "\n",
    "If successful, you should see something similar to the following:\n",
    "\n",
    "'Loaded CMSSW_10_1_0 into unfolding-hats!'  \n",
    "(with some perl warning we can ignore)\n",
    "\n",
    "The new kernel you just made will then show up in the various Jupyter dropdowns, \n",
    "allowing you to use it for different notebooks"
   ]
  },
  {
   "cell_type": "markdown",
   "metadata": {},
   "source": [
    "## FBU\n",
    "Now we need to create a separate kernel for our Fully Bayesian Unfolding notebooks"
   ]
  },
  {
   "cell_type": "code",
   "execution_count": 1,
   "metadata": {},
   "outputs": [
    {
     "name": "stdout",
     "output_type": "stream",
     "text": [
      "New python executable in /home/dmarley/unfolding-hats/venv-fbu/bin/python\n",
      "Installing setuptools, pip, wheel...done.\n",
      "Collecting ipykernel\n",
      "  Using cached https://files.pythonhosted.org/packages/8e/65/c7ca3e3d05f9bd51b3010076b84f4e7304b12d0abf62a48f6cec2c90c019/ipykernel-4.8.2-py2-none-any.whl\n",
      "Collecting ipython>=4.0.0 (from ipykernel)\n",
      "  Using cached https://files.pythonhosted.org/packages/52/19/aadde98d6bde1667d0bf431fb2d22451f880aaa373e0a241c7e7cb5815a0/ipython-5.7.0-py2-none-any.whl\n",
      "Collecting traitlets>=4.1.0 (from ipykernel)\n",
      "  Using cached https://files.pythonhosted.org/packages/93/d6/abcb22de61d78e2fc3959c964628a5771e47e7cc60d53e9342e21ed6cc9a/traitlets-4.3.2-py2.py3-none-any.whl\n",
      "Collecting tornado>=4.0 (from ipykernel)\n",
      "Collecting jupyter-client (from ipykernel)\n",
      "  Using cached https://files.pythonhosted.org/packages/94/dd/fe6c4d683b09eb05342bd2816b7779663f71762b4fa9c2d5203d35d17354/jupyter_client-5.2.3-py2.py3-none-any.whl\n",
      "Collecting pathlib2; python_version == \"2.7\" or python_version == \"3.3\" (from ipython>=4.0.0->ipykernel)\n",
      "  Using cached https://files.pythonhosted.org/packages/66/a7/9f8d84f31728d78beade9b1271ccbfb290c41c1e4dc13dbd4997ad594dcd/pathlib2-2.3.2-py2.py3-none-any.whl\n",
      "Collecting backports.shutil-get-terminal-size; python_version == \"2.7\" (from ipython>=4.0.0->ipykernel)\n",
      "  Using cached https://files.pythonhosted.org/packages/7d/cd/1750d6c35fe86d35f8562091737907f234b78fdffab42b29c72b1dd861f4/backports.shutil_get_terminal_size-1.0.0-py2.py3-none-any.whl\n",
      "Collecting simplegeneric>0.8 (from ipython>=4.0.0->ipykernel)\n",
      "Collecting decorator (from ipython>=4.0.0->ipykernel)\n",
      "  Using cached https://files.pythonhosted.org/packages/bc/bb/a24838832ba35baf52f32ab1a49b906b5f82fb7c76b2f6a7e35e140bac30/decorator-4.3.0-py2.py3-none-any.whl\n",
      "Collecting pygments (from ipython>=4.0.0->ipykernel)\n",
      "  Using cached https://files.pythonhosted.org/packages/02/ee/b6e02dc6529e82b75bb06823ff7d005b141037cb1416b10c6f00fc419dca/Pygments-2.2.0-py2.py3-none-any.whl\n",
      "Collecting pexpect; sys_platform != \"win32\" (from ipython>=4.0.0->ipykernel)\n",
      "  Using cached https://files.pythonhosted.org/packages/89/e6/b5a1de8b0cc4e07ca1b305a4fcc3f9806025c1b651ea302646341222f88b/pexpect-4.6.0-py2.py3-none-any.whl\n",
      "Requirement already satisfied: setuptools>=18.5 in ./venv-fbu/lib/python2.7/site-packages (from ipython>=4.0.0->ipykernel) (39.2.0)\n",
      "Collecting prompt-toolkit<2.0.0,>=1.0.4 (from ipython>=4.0.0->ipykernel)\n",
      "  Using cached https://files.pythonhosted.org/packages/d1/b0/1a6c262da35c779dd79550137aa7c298a424987240a28792ec5ccf48f848/prompt_toolkit-1.0.15-py2-none-any.whl\n",
      "Collecting pickleshare (from ipython>=4.0.0->ipykernel)\n",
      "  Using cached https://files.pythonhosted.org/packages/9f/17/daa142fc9be6b76f26f24eeeb9a138940671490b91cb5587393f297c8317/pickleshare-0.7.4-py2.py3-none-any.whl\n",
      "Collecting enum34; python_version == \"2.7\" (from traitlets>=4.1.0->ipykernel)\n",
      "  Using cached https://files.pythonhosted.org/packages/c5/db/e56e6b4bbac7c4a06de1c50de6fe1ef3810018ae11732a50f15f62c7d050/enum34-1.1.6-py2-none-any.whl\n",
      "Collecting six (from traitlets>=4.1.0->ipykernel)\n",
      "  Using cached https://files.pythonhosted.org/packages/67/4b/141a581104b1f6397bfa78ac9d43d8ad29a7ca43ea90a2d863fe3056e86a/six-1.11.0-py2.py3-none-any.whl\n",
      "Collecting ipython-genutils (from traitlets>=4.1.0->ipykernel)\n",
      "  Using cached https://files.pythonhosted.org/packages/fa/bc/9bd3b5c2b4774d5f33b2d544f1460be9df7df2fe42f352135381c347c69a/ipython_genutils-0.2.0-py2.py3-none-any.whl\n",
      "Collecting futures (from tornado>=4.0->ipykernel)\n",
      "  Using cached https://files.pythonhosted.org/packages/2d/99/b2c4e9d5a30f6471e410a146232b4118e697fa3ffc06d6a65efde84debd0/futures-3.2.0-py2-none-any.whl\n",
      "Collecting singledispatch (from tornado>=4.0->ipykernel)\n",
      "  Using cached https://files.pythonhosted.org/packages/c5/10/369f50bcd4621b263927b0a1519987a04383d4a98fb10438042ad410cf88/singledispatch-3.4.0.3-py2.py3-none-any.whl\n",
      "Collecting backports-abc>=0.4 (from tornado>=4.0->ipykernel)\n",
      "  Using cached https://files.pythonhosted.org/packages/7d/56/6f3ac1b816d0cd8994e83d0c4e55bc64567532f7dc543378bd87f81cebc7/backports_abc-0.5-py2.py3-none-any.whl\n",
      "Collecting python-dateutil>=2.1 (from jupyter-client->ipykernel)\n",
      "  Using cached https://files.pythonhosted.org/packages/cf/f5/af2b09c957ace60dcfac112b669c45c8c97e32f94aa8b56da4c6d1682825/python_dateutil-2.7.3-py2.py3-none-any.whl\n",
      "Collecting pyzmq>=13 (from jupyter-client->ipykernel)\n",
      "  Using cached https://files.pythonhosted.org/packages/5d/b0/3aea046f5519e2e059a225e8c924f897846b608793f890be987d07858b7c/pyzmq-17.0.0-cp27-cp27mu-manylinux1_x86_64.whl\n",
      "Collecting jupyter-core (from jupyter-client->ipykernel)\n",
      "  Using cached https://files.pythonhosted.org/packages/1d/44/065d2d7bae7bebc06f1dd70d23c36da8c50c0f08b4236716743d706762a8/jupyter_core-4.4.0-py2.py3-none-any.whl\n",
      "Collecting scandir; python_version < \"3.5\" (from pathlib2; python_version == \"2.7\" or python_version == \"3.3\"->ipython>=4.0.0->ipykernel)\n",
      "Collecting ptyprocess>=0.5 (from pexpect; sys_platform != \"win32\"->ipython>=4.0.0->ipykernel)\n",
      "  Using cached https://files.pythonhosted.org/packages/d1/29/605c2cc68a9992d18dada28206eeada56ea4bd07a239669da41674648b6f/ptyprocess-0.6.0-py2.py3-none-any.whl\n",
      "Collecting wcwidth (from prompt-toolkit<2.0.0,>=1.0.4->ipython>=4.0.0->ipykernel)\n",
      "  Using cached https://files.pythonhosted.org/packages/7e/9f/526a6947247599b084ee5232e4f9190a38f398d7300d866af3ab571a5bfe/wcwidth-0.1.7-py2.py3-none-any.whl\n",
      "Installing collected packages: six, scandir, pathlib2, backports.shutil-get-terminal-size, simplegeneric, decorator, pygments, ptyprocess, pexpect, wcwidth, prompt-toolkit, pickleshare, enum34, ipython-genutils, traitlets, ipython, futures, singledispatch, backports-abc, tornado, python-dateutil, pyzmq, jupyter-core, jupyter-client, ipykernel\n",
      "Successfully installed backports-abc-0.5 backports.shutil-get-terminal-size-1.0.0 decorator-4.3.0 enum34-1.1.6 futures-3.2.0 ipykernel-4.8.2 ipython-5.7.0 ipython-genutils-0.2.0 jupyter-client-5.2.3 jupyter-core-4.4.0 pathlib2-2.3.2 pexpect-4.6.0 pickleshare-0.7.4 prompt-toolkit-1.0.15 ptyprocess-0.6.0 pygments-2.2.0 python-dateutil-2.7.3 pyzmq-17.0.0 scandir-1.7 simplegeneric-0.8.1 singledispatch-3.4.0.3 six-1.11.0 tornado-5.0.2 traitlets-4.3.2 wcwidth-0.1.7\n",
      "Collecting uproot==2.9.0\n",
      "Collecting pymc3==3.2\n",
      "Collecting fbu\n",
      "Collecting matplotlib\n",
      "  Using cached https://files.pythonhosted.org/packages/33/da/6409d32c46778ed20308e83bc501ff2ff8a9cbda5dd7b26362c5e99a6149/matplotlib-2.2.2-cp27-cp27mu-manylinux1_x86_64.whl\n",
      "Collecting numpy (from uproot==2.9.0)\n",
      "  Using cached https://files.pythonhosted.org/packages/6a/a9/c01a2d5f7b045f508c8cefef3b079fe8c413d05498ca0ae877cffa230564/numpy-1.14.5-cp27-cp27mu-manylinux1_x86_64.whl\n",
      "Collecting joblib>=0.9 (from pymc3==3.2)\n",
      "  Using cached https://files.pythonhosted.org/packages/f4/2f/66db8ecbfa71cd36146d894c867b2f595682d620329fd823c5c041687b5f/joblib-0.12.0-py2.py3-none-any.whl\n",
      "Collecting tqdm>=4.8.4 (from pymc3==3.2)\n",
      "  Using cached https://files.pythonhosted.org/packages/93/24/6ab1df969db228aed36a648a8959d1027099ce45fad67532b9673d533318/tqdm-4.23.4-py2.py3-none-any.whl\n",
      "Collecting h5py>=2.7.0 (from pymc3==3.2)\n",
      "  Using cached https://files.pythonhosted.org/packages/33/0c/1c5dfa85e05052aa5f50969d87c67a2128dc39a6f8ce459a503717e56bd0/h5py-2.8.0-cp27-cp27mu-manylinux1_x86_64.whl\n",
      "Requirement already satisfied: enum34>=1.1.6; python_version < \"3.4\" in ./venv-fbu/lib/python2.7/site-packages (from pymc3==3.2) (1.1.6)\n",
      "Collecting pandas>=0.18.0 (from pymc3==3.2)\n",
      "  Using cached https://files.pythonhosted.org/packages/9d/5c/052a3aef6b5e337eca210ca668b78707c4fca762dcc3a0b7f9f3420f1e97/pandas-0.23.1-cp27-cp27mu-manylinux1_x86_64.whl\n",
      "Requirement already satisfied: six>=1.10.0 in ./venv-fbu/lib/python2.7/site-packages (from pymc3==3.2) (1.11.0)\n",
      "Collecting patsy>=0.4.0 (from pymc3==3.2)\n",
      "  Using cached https://files.pythonhosted.org/packages/5d/eb/92c4b45ca47a2dd1339c958636e083b50ffadb5162a599a1cbbe92f89832/patsy-0.5.0-py2.py3-none-any.whl\n",
      "Collecting theano>=0.9.0 (from pymc3==3.2)\n",
      "Requirement already satisfied: python-dateutil>=2.1 in ./venv-fbu/lib/python2.7/site-packages (from matplotlib) (2.7.3)\n",
      "Collecting subprocess32 (from matplotlib)\n",
      "Collecting cycler>=0.10 (from matplotlib)\n",
      "  Using cached https://files.pythonhosted.org/packages/f7/d2/e07d3ebb2bd7af696440ce7e754c59dd546ffe1bbe732c8ab68b9c834e61/cycler-0.10.0-py2.py3-none-any.whl\n",
      "Collecting backports.functools-lru-cache (from matplotlib)\n",
      "  Using cached https://files.pythonhosted.org/packages/03/8e/2424c0e65c4a066e28f539364deee49b6451f8fcd4f718fefa50cc3dcf48/backports.functools_lru_cache-1.5-py2.py3-none-any.whl\n",
      "Collecting pytz (from matplotlib)\n",
      "  Using cached https://files.pythonhosted.org/packages/dc/83/15f7833b70d3e067ca91467ca245bae0f6fe56ddc7451aa0dc5606b120f2/pytz-2018.4-py2.py3-none-any.whl\n",
      "Collecting pyparsing!=2.0.4,!=2.1.2,!=2.1.6,>=2.0.1 (from matplotlib)\n",
      "  Using cached https://files.pythonhosted.org/packages/6a/8a/718fd7d3458f9fab8e67186b00abdd345b639976bc7fb3ae722e1b026a50/pyparsing-2.2.0-py2.py3-none-any.whl\n",
      "Collecting kiwisolver>=1.0.1 (from matplotlib)\n",
      "  Using cached https://files.pythonhosted.org/packages/3a/62/a8c9bef3059d55ab38e41fe9cba4fad773bfc04e47290bab84db1c18262e/kiwisolver-1.0.1-cp27-cp27mu-manylinux1_x86_64.whl\n",
      "Collecting scipy>=0.14 (from theano>=0.9.0->pymc3==3.2)\n",
      "  Using cached https://files.pythonhosted.org/packages/2a/f3/de9c1bd16311982711209edaa8c6caa962db30ebb6a8cc6f1dcd2d3ef616/scipy-1.1.0-cp27-cp27mu-manylinux1_x86_64.whl\n",
      "Requirement already satisfied: setuptools in ./venv-fbu/lib/python2.7/site-packages (from kiwisolver>=1.0.1->matplotlib) (39.2.0)\n",
      "Installing collected packages: numpy, uproot, joblib, tqdm, h5py, pytz, pandas, patsy, scipy, theano, pymc3, fbu, subprocess32, cycler, backports.functools-lru-cache, pyparsing, kiwisolver, matplotlib\n",
      "Successfully installed backports.functools-lru-cache-1.5 cycler-0.10.0 fbu-0.1.1 h5py-2.8.0 joblib-0.12.0 kiwisolver-1.0.1 matplotlib-2.2.2 numpy-1.14.5 pandas-0.23.1 patsy-0.5.0 pymc3-3.2 pyparsing-2.2.0 pytz-2018.4 scipy-1.1.0 subprocess32-3.5.2 theano-1.0.2 tqdm-4.23.4 uproot-2.9.0\n",
      "Installed kernelspec venv-fbu in /home/dmarley/.local/share/jupyter/kernels/venv-fbu\n"
     ]
    }
   ],
   "source": [
    "%%bash\n",
    "#!/bin/bash\n",
    "\n",
    "python -m virtualenv venv-fbu\n",
    "source venv-fbu/bin/activate\n",
    "pip install ipykernel\n",
    "pip install uproot==2.9.0 pymc3==3.2 fbu matplotlib\n",
    "ipython kernel install --user --name=venv-fbu"
   ]
  },
  {
   "cell_type": "markdown",
   "metadata": {},
   "source": [
    "### Results\n",
    "\n",
    "If successful, you should see no errors and only statements like\n",
    "\n",
    "'Successfully installed ...'  \n",
    "'Installed ...'\n",
    "\n",
    "The new kernel you just made will then show up in the various Jupyter dropdowns, \n",
    "allowing you to use it for different notebooks"
   ]
  },
  {
   "cell_type": "code",
   "execution_count": null,
   "metadata": {},
   "outputs": [],
   "source": []
  }
 ],
 "metadata": {
  "kernelspec": {
   "display_name": "Python 2",
   "language": "python",
   "name": "python2"
  },
  "language_info": {
   "codemirror_mode": {
    "name": "ipython",
    "version": 2
   },
   "file_extension": ".py",
   "mimetype": "text/x-python",
   "name": "python",
   "nbconvert_exporter": "python",
   "pygments_lexer": "ipython2",
   "version": "2.7.5"
  }
 },
 "nbformat": 4,
 "nbformat_minor": 2
}
